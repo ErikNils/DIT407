{
 "cells": [
  {
   "cell_type": "markdown",
   "metadata": {},
   "source": [
    "## Part 1"
   ]
  },
  {
   "cell_type": "code",
   "execution_count": 18,
   "metadata": {},
   "outputs": [],
   "source": [
    "import os\n",
    "import dateparser\n",
    "import re\n",
    "from bs4 import BeautifulSoup\n",
    "import pandas as pd"
   ]
  },
  {
   "cell_type": "code",
   "execution_count": 19,
   "metadata": {},
   "outputs": [],
   "source": [
    "def get_property_int(property_listing: str, element_type:str, class_name: str):\n",
    "    property_element = property_listing.find(element_type, {\"class\": class_name})\n",
    "    property_text = property_element.text if property_element else \"\"\n",
    "    property_number = re.findall(r'\\d+', property_text.replace('\\xa0', ''))\n",
    "    return int(''.join(property_number)) if property_number else 0"
   ]
  },
  {
   "cell_type": "code",
   "execution_count": 20,
   "metadata": {},
   "outputs": [
    {
     "name": "stdout",
     "output_type": "stream",
     "text": [
      "kungalv_slutpris_page_03.html\n",
      "kungalv_slutpris_page_20.html\n",
      "kungalv_slutpris_page_27.html\n",
      "kungalv_slutpris_page_24.html\n",
      "kungalv_slutpris_page_26.html\n",
      "kungalv_slutpris_page_06.html\n",
      "kungalv_slutpris_page_32.html\n",
      "kungalv_slutpris_page_01.html\n",
      "kungalv_slutpris_page_10.html\n",
      "kungalv_slutpris_page_02.html\n",
      "kungalv_slutpris_page_17.html\n",
      "kungalv_slutpris_page_25.html\n",
      "kungalv_slutpris_page_07.html\n",
      "kungalv_slutpris_page_04.html\n",
      "kungalv_slutpris_page_40.html\n",
      "kungalv_slutpris_page_36.html\n",
      "kungalv_slutpris_page_38.html\n",
      "kungalv_slutpris_page_16.html\n",
      "kungalv_slutpris_page_18.html\n",
      "kungalv_slutpris_page_11.html\n",
      "kungalv_slutpris_page_31.html\n",
      "kungalv_slutpris_page_22.html\n",
      "kungalv_slutpris_page_14.html\n",
      "kungalv_slutpris_page_33.html\n",
      "kungalv_slutpris_page_05.html\n",
      "kungalv_slutpris_page_30.html\n",
      "kungalv_slutpris_page_09.html\n",
      "kungalv_slutpris_page_29.html\n",
      "kungalv_slutpris_page_12.html\n",
      "kungalv_slutpris_page_34.html\n",
      "kungalv_slutpris_page_35.html\n",
      "kungalv_slutpris_page_23.html\n",
      "kungalv_slutpris_page_13.html\n",
      "kungalv_slutpris_page_39.html\n",
      "kungalv_slutpris_page_08.html\n",
      "kungalv_slutpris_page_37.html\n",
      "kungalv_slutpris_page_28.html\n",
      "kungalv_slutpris_page_15.html\n",
      "kungalv_slutpris_page_21.html\n",
      "kungalv_slutpris_page_19.html\n"
     ]
    }
   ],
   "source": [
    "\n",
    "data = []\n",
    "folder = \"./kungalv_slutpriser/\"\n",
    "\n",
    "for filename in os.listdir(folder):\n",
    "    if filename.endswith(\".html\"):\n",
    "        print(filename)\n",
    "        with open(f\"{folder}{filename}\", \"r\") as f:\n",
    "            soup = BeautifulSoup(f, \"html.parser\")\n",
    "            \n",
    "            property_listings = soup.find_all(\"div\", {\"class\": \"qa-sale-card hcl-grid hcl-grid--columns-1 hcl-grid--md-columns-2\"})\n",
    "            \n",
    "            for property_listing in property_listings:\n",
    "                date_of_sale = property_listing.find(\"span\", {\"class\": \"hcl-label hcl-label--state hcl-label--sold-at\"}).text.replace(\"Såld \", \"\")\n",
    "                address = property_listing.find(\"h2\", {\"class\": \"sold-property-listing__heading qa-selling-price-title hcl-card__title\"}).text\n",
    "                location = property_listing.find(\"div\", {\"class\": \"sold-property-listing__location\"}).div.text\n",
    "                area_div = property_listing.find(\"div\", {\"class\": \"sold-property-listing__subheading sold-property-listing__area\"})\n",
    "                plot_area = get_property_int(property_listing, \"div\", \"sold-property-listing__land-area\")\n",
    "                closing_price = get_property_int(property_listing, \"span\", \"hcl-text hcl-text--medium\")\n",
    "\n",
    "                # Handle both formats for area. And if there is no area then set to 0\n",
    "                if area_div.span:\n",
    "                    boarea, biarea = area_div.text.replace(',', '.').split(\"+\")\n",
    "                    totalarea = float(boarea) + float(biarea.split()[0])\n",
    "                elif len(area_div.text.split()) > 0:\n",
    "                    totalarea = float(area_div.text.replace(',', '.').split()[0])\n",
    "                else:\n",
    "                    totalarea = 0\n",
    "\n",
    "                # Store information in a dictionary and append to list\n",
    "                data.append({\n",
    "                    \"Date of Sale\": dateparser.parse(date_of_sale.strip()),\n",
    "                    \"Address\": address.strip(),\n",
    "                    \"Location\": ' '.join(location.split()),\n",
    "                    \"Plot Area\": plot_area,\n",
    "                    \"Closing Price\": closing_price,\n",
    "                    \"Total Area\": totalarea\n",
    "                })\n",
    "\n",
    "# Convert list to DataFrame\n",
    "df = pd.DataFrame(data)\n",
    "\n",
    "# Export DataFrame to CSV file\n",
    "df.to_csv(\"kungalv_slutpriser.csv\", index=False)"
   ]
  },
  {
   "cell_type": "markdown",
   "metadata": {},
   "source": [
    "## Part 2"
   ]
  },
  {
   "cell_type": "code",
   "execution_count": null,
   "metadata": {},
   "outputs": [],
   "source": []
  }
 ],
 "metadata": {
  "kernelspec": {
   "display_name": "dml",
   "language": "python",
   "name": "python3"
  },
  "language_info": {
   "codemirror_mode": {
    "name": "ipython",
    "version": 3
   },
   "file_extension": ".py",
   "mimetype": "text/x-python",
   "name": "python",
   "nbconvert_exporter": "python",
   "pygments_lexer": "ipython3",
   "version": "3.9.19"
  }
 },
 "nbformat": 4,
 "nbformat_minor": 2
}
